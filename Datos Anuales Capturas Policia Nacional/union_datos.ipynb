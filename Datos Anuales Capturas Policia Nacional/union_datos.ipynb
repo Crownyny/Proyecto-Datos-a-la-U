{
 "cells": [
  {
   "cell_type": "markdown",
   "metadata": {},
   "source": [
    "Obtener todos los datasets"
   ]
  },
  {
   "cell_type": "code",
   "execution_count": null,
   "metadata": {},
   "outputs": [
    {
     "name": "stdout",
     "output_type": "stream",
     "text": [
      "Archivo corregido guardado como 'archivo_corregido.csv'\n"
     ]
    }
   ],
   "source": [
    "import csv\n",
    "import re\n",
    "\n",
    "def es_fila_completa(linea):\n",
    "    \"\"\"\n",
    "    Verifica si la línea termina en un número, lo cual indica que es una fila completa.\n",
    "    \"\"\"\n",
    "    return bool(re.search(r'\\d+$', linea.strip()))\n",
    "# Abrir el archivo original en modo lectura y el nuevo archivo en modo escritura\n",
    "with open(\"Ampliacion datos/capturas_2024.csv\", \"r\", encoding=\"utf-8\") as infile, open(\"Ampliacion datos/capturas_2024_2.csv\", \"w\", encoding=\"utf-8\", newline='') as outfile:\n",
    "    writer = csv.writer(outfile)\n",
    "    \n",
    "    current_row = \"\"\n",
    "    for line in infile:\n",
    "        # Acumular líneas hasta que una línea esté completa\n",
    "        current_row += line.strip() + \" \"\n",
    "        \n",
    "        # Verificar si la fila es completa (termina en un número)\n",
    "        if es_fila_completa(current_row):\n",
    "            # Escribir la fila completa en el archivo de salida\n",
    "            writer.writerow([current_row.strip()])\n",
    "            current_row = \"\"  # Reiniciar la fila actual\n",
    "\n",
    "    # Escribir la última fila en caso de que haya quedado sin escribir\n",
    "    if current_row:\n",
    "        writer.writerow([current_row.strip()])\n"
   ]
  },
  {
   "cell_type": "code",
   "execution_count": 120,
   "metadata": {},
   "outputs": [],
   "source": [
    "import pandas as pd\n",
    "\n",
    "d2016 = pd.read_csv(\"Ampliacion datos/capturas_2016.csv\")\n",
    "d2017 = pd.read_csv(\"Ampliacion datos/capturas_2017.csv\")\n",
    "d2018 = pd.read_csv(\"Ampliacion datos/capturas_2018.csv\")\n",
    "d2019 = pd.read_csv(\"Ampliacion datos/capturas_2019.csv\")\n",
    "d2020 = pd.read_csv(\"Ampliacion datos/capturas_2020.csv\")\n",
    "d2021 = pd.read_csv(\"Ampliacion datos/capturas_2021.csv\")\n",
    "d2022 = pd.read_csv(\"Ampliacion datos/capturas_2022.csv\")\n",
    "d2023 = pd.read_csv(\"Ampliacion datos/capturas_2023.csv\")\n",
    "d2024 = pd.read_csv(\"Ampliacion datos/capturas_2024.csv\")\n",
    "general_data = pd.read_csv('data.csv', low_memory=False)"
   ]
  },
  {
   "cell_type": "code",
   "execution_count": 121,
   "metadata": {},
   "outputs": [],
   "source": [
    "general_data['FECHA_HECHO'] = pd.to_datetime(general_data['FECHA_HECHO'], format=\"%d/%m/%Y\")\n",
    "general_data['FECHA_HECHO'] = general_data['FECHA_HECHO'].dt.strftime(\"%m/%d/%Y\")\n",
    "d2023['FECHA_HECHO'] = pd.to_datetime(d2023['FECHA_HECHO'], format=\"%d/%m/%Y\")\n",
    "d2023['FECHA_HECHO'] = d2023['FECHA_HECHO'].dt.strftime(\"%m/%d/%Y\")\n",
    "d2024['FECHA_HECHO'] = pd.to_datetime(d2024['FECHA_HECHO'], format=\"%d/%m/%Y\")\n",
    "d2024['FECHA_HECHO'] = d2024['FECHA_HECHO'].dt.strftime(\"%m/%d/%Y\")"
   ]
  },
  {
   "cell_type": "code",
   "execution_count": 122,
   "metadata": {},
   "outputs": [],
   "source": [
    "dlyears =  pd.concat([d2016, d2017, d2018, d2019, d2020, d2021, d2022, d2023, d2024, general_data], ignore_index=True)\n",
    "dlyears = dlyears.dropna()"
   ]
  },
  {
   "cell_type": "code",
   "execution_count": 123,
   "metadata": {},
   "outputs": [],
   "source": [
    "# Eliminar columnas espurias\n",
    "dlyears =  dlyears[~dlyears[\"DEPARTAMENTO\"].isin([\"QUITO\", \"MADRID\",\"NEW YORK\",\"NEW JERSEY\",\"FLORIDA\"])]\n",
    "# Convierte la columna FECHA_HECHO a formato datetime\n",
    "dlyears['FECHA_HECHO'] = pd.to_datetime(dlyears['FECHA_HECHO'], format=\"%m/%d/%Y\")\n",
    "dlyears['FECHA_HECHO'] = dlyears['FECHA_HECHO'].dt.strftime(\"%d/%m/%Y\")"
   ]
  },
  {
   "cell_type": "code",
   "execution_count": 124,
   "metadata": {},
   "outputs": [
    {
     "data": {
      "text/html": [
       "<div>\n",
       "<style scoped>\n",
       "    .dataframe tbody tr th:only-of-type {\n",
       "        vertical-align: middle;\n",
       "    }\n",
       "\n",
       "    .dataframe tbody tr th {\n",
       "        vertical-align: top;\n",
       "    }\n",
       "\n",
       "    .dataframe thead th {\n",
       "        text-align: right;\n",
       "    }\n",
       "</style>\n",
       "<table border=\"1\" class=\"dataframe\">\n",
       "  <thead>\n",
       "    <tr style=\"text-align: right;\">\n",
       "      <th></th>\n",
       "      <th>DEPARTAMENTO</th>\n",
       "      <th>MUNICIPIO</th>\n",
       "      <th>CODIGO_DANE</th>\n",
       "      <th>FECHA_HECHO</th>\n",
       "      <th>GENERO</th>\n",
       "      <th>DESCRIPCION_CONDUCTA_CAPTURA</th>\n",
       "      <th>GRUPO_ETARIO</th>\n",
       "      <th>CANTIDAD</th>\n",
       "    </tr>\n",
       "  </thead>\n",
       "  <tbody>\n",
       "    <tr>\n",
       "      <th>0</th>\n",
       "      <td>AMAZONAS</td>\n",
       "      <td>LETICIA (CT)</td>\n",
       "      <td>91001000</td>\n",
       "      <td>01/01/2016</td>\n",
       "      <td>MASCULINO</td>\n",
       "      <td>ARTÍCULO 103. HOMICIDIO</td>\n",
       "      <td>ADULTOS</td>\n",
       "      <td>1.0</td>\n",
       "    </tr>\n",
       "    <tr>\n",
       "      <th>1</th>\n",
       "      <td>ANTIOQUIA</td>\n",
       "      <td>ANGOSTURA</td>\n",
       "      <td>5038000</td>\n",
       "      <td>01/01/2016</td>\n",
       "      <td>MASCULINO</td>\n",
       "      <td>ARTÍCULO 111. LESIONES PERSONALES</td>\n",
       "      <td>ADULTOS</td>\n",
       "      <td>2.0</td>\n",
       "    </tr>\n",
       "    <tr>\n",
       "      <th>2</th>\n",
       "      <td>ANTIOQUIA</td>\n",
       "      <td>ARGELIA</td>\n",
       "      <td>5055000</td>\n",
       "      <td>01/01/2016</td>\n",
       "      <td>MASCULINO</td>\n",
       "      <td>ARTÍCULO 365. FABRICACIÓN. TRÁFICO. PORTE O TE...</td>\n",
       "      <td>ADULTOS</td>\n",
       "      <td>1.0</td>\n",
       "    </tr>\n",
       "    <tr>\n",
       "      <th>3</th>\n",
       "      <td>ANTIOQUIA</td>\n",
       "      <td>BARBOSA</td>\n",
       "      <td>5079000</td>\n",
       "      <td>01/01/2016</td>\n",
       "      <td>MASCULINO</td>\n",
       "      <td>ARTÍCULO 365. FABRICACIÓN. TRÁFICO. PORTE O TE...</td>\n",
       "      <td>ADULTOS</td>\n",
       "      <td>1.0</td>\n",
       "    </tr>\n",
       "    <tr>\n",
       "      <th>4</th>\n",
       "      <td>ANTIOQUIA</td>\n",
       "      <td>BELLO</td>\n",
       "      <td>5088000</td>\n",
       "      <td>01/01/2016</td>\n",
       "      <td>MASCULINO</td>\n",
       "      <td>ARTÍCULO 239. HURTO PERSONAS</td>\n",
       "      <td>ADULTOS</td>\n",
       "      <td>2.0</td>\n",
       "    </tr>\n",
       "  </tbody>\n",
       "</table>\n",
       "</div>"
      ],
      "text/plain": [
       "  DEPARTAMENTO     MUNICIPIO CODIGO_DANE FECHA_HECHO     GENERO  \\\n",
       "0     AMAZONAS  LETICIA (CT)    91001000  01/01/2016  MASCULINO   \n",
       "1    ANTIOQUIA     ANGOSTURA     5038000  01/01/2016  MASCULINO   \n",
       "2    ANTIOQUIA       ARGELIA     5055000  01/01/2016  MASCULINO   \n",
       "3    ANTIOQUIA       BARBOSA     5079000  01/01/2016  MASCULINO   \n",
       "4    ANTIOQUIA         BELLO     5088000  01/01/2016  MASCULINO   \n",
       "\n",
       "                        DESCRIPCION_CONDUCTA_CAPTURA GRUPO_ETARIO  CANTIDAD   \n",
       "0                            ARTÍCULO 103. HOMICIDIO      ADULTOS        1.0  \n",
       "1                  ARTÍCULO 111. LESIONES PERSONALES      ADULTOS        2.0  \n",
       "2  ARTÍCULO 365. FABRICACIÓN. TRÁFICO. PORTE O TE...      ADULTOS        1.0  \n",
       "3  ARTÍCULO 365. FABRICACIÓN. TRÁFICO. PORTE O TE...      ADULTOS        1.0  \n",
       "4                       ARTÍCULO 239. HURTO PERSONAS      ADULTOS        2.0  "
      ]
     },
     "execution_count": 124,
     "metadata": {},
     "output_type": "execute_result"
    }
   ],
   "source": [
    "dlyears.head()"
   ]
  },
  {
   "cell_type": "code",
   "execution_count": 118,
   "metadata": {},
   "outputs": [],
   "source": [
    "dlyears.to_csv('complete_data.csv', index=False)"
   ]
  }
 ],
 "metadata": {
  "kernelspec": {
   "display_name": "Models",
   "language": "python",
   "name": "python3"
  },
  "language_info": {
   "codemirror_mode": {
    "name": "ipython",
    "version": 3
   },
   "file_extension": ".py",
   "mimetype": "text/x-python",
   "name": "python",
   "nbconvert_exporter": "python",
   "pygments_lexer": "ipython3",
   "version": "3.12.7"
  }
 },
 "nbformat": 4,
 "nbformat_minor": 2
}
