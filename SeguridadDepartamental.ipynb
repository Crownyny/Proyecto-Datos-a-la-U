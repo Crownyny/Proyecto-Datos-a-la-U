{
 "cells": [
  {
   "cell_type": "markdown",
   "metadata": {},
   "source": [
    "## Analisis de datos"
   ]
  },
  {
   "cell_type": "markdown",
   "metadata": {},
   "source": [
    "#### Creamos un dataframe con los datos de general data y lo fragmentamos y guardamos en un csv por departamento"
   ]
  },
  {
   "cell_type": "markdown",
   "metadata": {},
   "source": [
    "Obtenemos los datos del csv"
   ]
  },
  {
   "cell_type": "code",
   "execution_count": 10,
   "metadata": {},
   "outputs": [
    {
     "name": "stdout",
     "output_type": "stream",
     "text": [
      "<class 'pandas.core.frame.DataFrame'>\n",
      "Index: 839775 entries, 0 to 839792\n",
      "Data columns (total 8 columns):\n",
      " #   Column                        Non-Null Count   Dtype         \n",
      "---  ------                        --------------   -----         \n",
      " 0   DEPARTAMENTO                  839775 non-null  object        \n",
      " 1   MUNICIPIO                     839775 non-null  object        \n",
      " 2   CODIGO_DANE                   839775 non-null  object        \n",
      " 3   FECHA_HECHO                   839775 non-null  datetime64[ns]\n",
      " 4   GENERO                        839775 non-null  object        \n",
      " 5   DESCRIPCION_CONDUCTA_CAPTURA  839775 non-null  object        \n",
      " 6   GRUPO_ETARIO                  839775 non-null  object        \n",
      " 7   CANTIDAD                      839775 non-null  int64         \n",
      "dtypes: datetime64[ns](1), int64(1), object(6)\n",
      "memory usage: 57.7+ MB\n"
     ]
    }
   ],
   "source": [
    "import os\n",
    "import pandas as pd\n",
    "from sklearn.preprocessing import OneHotEncoder\n",
    "\n",
    "# Carga datos en un DataFrame\n",
    "general_data = pd.read_csv('Reporte_Capturas_Polic_a_Nacional_20241025.csv', low_memory=False)\n",
    "# Eliminar columnas espurias\n",
    "general_data =  general_data[~general_data[\"DEPARTAMENTO\"].isin([\"QUITO\", \"MADRID\",\"NEW YORK\",\"NEW JERSEY\",\"FLORIDA\"])]\n",
    "# Convierte la columna FECHA_HECHO a formato datetime\n",
    "general_data['FECHA_HECHO'] = pd.to_datetime(general_data['FECHA_HECHO'], format=\"%d/%m/%Y\")\n",
    "general_data.info()"
   ]
  },
  {
   "cell_type": "code",
   "execution_count": 18,
   "metadata": {},
   "outputs": [
    {
     "name": "stdout",
     "output_type": "stream",
     "text": [
      "Guardando departamentos_base\\AMAZONAS.csv... con 3042 filas\n",
      "Guardando departamentos_base\\ANTIOQUIA.csv... con 115316 filas\n",
      "Guardando departamentos_base\\ARAUCA.csv... con 4261 filas\n",
      "Guardando departamentos_base\\ATLÁNTICO.csv... con 35313 filas\n",
      "Guardando departamentos_base\\BOLÍVAR.csv... con 34910 filas\n",
      "Guardando departamentos_base\\BOYACÁ.csv... con 27861 filas\n",
      "Guardando departamentos_base\\CALDAS.csv... con 29073 filas\n",
      "Guardando departamentos_base\\CAQUETÁ.csv... con 10663 filas\n",
      "Guardando departamentos_base\\CASANARE.csv... con 9640 filas\n",
      "Guardando departamentos_base\\CAUCA.csv... con 20747 filas\n",
      "Guardando departamentos_base\\CESAR.csv... con 17146 filas\n",
      "Guardando departamentos_base\\CHOCÓ.csv... con 4969 filas\n",
      "Guardando departamentos_base\\CUNDINAMARCA.csv... con 115954 filas\n",
      "Guardando departamentos_base\\CÓRDOBA.csv... con 28266 filas\n",
      "Guardando departamentos_base\\GUAINÍA.csv... con 1115 filas\n",
      "Guardando departamentos_base\\GUAJIRA.csv... con 8758 filas\n",
      "Guardando departamentos_base\\GUAVIARE.csv... con 2162 filas\n",
      "Guardando departamentos_base\\HUILA.csv... con 25310 filas\n",
      "Guardando departamentos_base\\MAGDALENA.csv... con 16008 filas\n",
      "Guardando departamentos_base\\META.csv... con 20916 filas\n",
      "Guardando departamentos_base\\NARIÑO.csv... con 34584 filas\n",
      "Guardando departamentos_base\\NORTE DE SANTANDER.csv... con 26952 filas\n",
      "Guardando departamentos_base\\PUTUMAYO.csv... con 8874 filas\n",
      "Guardando departamentos_base\\QUINDÍO.csv... con 22089 filas\n",
      "Guardando departamentos_base\\RISARALDA.csv... con 33906 filas\n",
      "Guardando departamentos_base\\SAN ANDRÉS.csv... con 2247 filas\n",
      "Guardando departamentos_base\\SANTANDER.csv... con 53958 filas\n",
      "Guardando departamentos_base\\SUCRE.csv... con 14596 filas\n",
      "Guardando departamentos_base\\TOLIMA.csv... con 28380 filas\n",
      "Guardando departamentos_base\\VALLE.csv... con 81223 filas\n",
      "Guardando departamentos_base\\VAUPÉS.csv... con 409 filas\n",
      "Guardando departamentos_base\\VICHADA.csv... con 1127 filas\n",
      "Archivos CSV generados en la carpeta: departamentos_base\n"
     ]
    }
   ],
   "source": [
    "def csv_by_filter(data, filter_column, output_folder, out = True):\n",
    "    # Especifica la carpeta donde guardar los archivos CSV\n",
    "    os.makedirs(output_folder, exist_ok=True)  # Crea la carpeta si no existe\n",
    "\n",
    "    # Filtra y guarda un CSV para cada departamento\n",
    "    for filter_column, data in general_data.groupby(filter_column):\n",
    "        # Genera el nombre del archivo para cada departamento\n",
    "        output_file = os.path.join(output_folder, f\"{filter_column}.csv\")\n",
    "        if (out):\n",
    "            print(f\"Guardando {output_file}... con {len(data)} filas\")\n",
    "        # Guarda el DataFrame filtrado como CSV\n",
    "        data.to_csv(output_file, index=False)\n",
    "    if (out):\n",
    "        print(\"Archivos CSV generados en la carpeta:\", output_folder)\n",
    "\n",
    "# Filtra y guarda un CSV para cada departamento\n",
    "csv_by_filter(general_data, \"DEPARTAMENTO\", 'departamentos_base', out = True)"
   ]
  },
  {
   "cell_type": "code",
   "execution_count": 19,
   "metadata": {},
   "outputs": [
    {
     "name": "stdout",
     "output_type": "stream",
     "text": [
      "Guardando departamentos_codificados\\AMAZONAS.csv... con 3042 filas\n",
      "Guardando departamentos_codificados\\ANTIOQUIA.csv... con 115316 filas\n",
      "Guardando departamentos_codificados\\ARAUCA.csv... con 4261 filas\n",
      "Guardando departamentos_codificados\\ATLÁNTICO.csv... con 35313 filas\n",
      "Guardando departamentos_codificados\\BOLÍVAR.csv... con 34910 filas\n",
      "Guardando departamentos_codificados\\BOYACÁ.csv... con 27861 filas\n",
      "Guardando departamentos_codificados\\CALDAS.csv... con 29073 filas\n",
      "Guardando departamentos_codificados\\CAQUETÁ.csv... con 10663 filas\n",
      "Guardando departamentos_codificados\\CASANARE.csv... con 9640 filas\n",
      "Guardando departamentos_codificados\\CAUCA.csv... con 20747 filas\n",
      "Guardando departamentos_codificados\\CESAR.csv... con 17146 filas\n",
      "Guardando departamentos_codificados\\CHOCÓ.csv... con 4969 filas\n",
      "Guardando departamentos_codificados\\CUNDINAMARCA.csv... con 115954 filas\n",
      "Guardando departamentos_codificados\\CÓRDOBA.csv... con 28266 filas\n",
      "Guardando departamentos_codificados\\GUAINÍA.csv... con 1115 filas\n",
      "Guardando departamentos_codificados\\GUAJIRA.csv... con 8758 filas\n",
      "Guardando departamentos_codificados\\GUAVIARE.csv... con 2162 filas\n",
      "Guardando departamentos_codificados\\HUILA.csv... con 25310 filas\n",
      "Guardando departamentos_codificados\\MAGDALENA.csv... con 16008 filas\n",
      "Guardando departamentos_codificados\\META.csv... con 20916 filas\n",
      "Guardando departamentos_codificados\\NARIÑO.csv... con 34584 filas\n",
      "Guardando departamentos_codificados\\NORTE DE SANTANDER.csv... con 26952 filas\n",
      "Guardando departamentos_codificados\\PUTUMAYO.csv... con 8874 filas\n",
      "Guardando departamentos_codificados\\QUINDÍO.csv... con 22089 filas\n",
      "Guardando departamentos_codificados\\RISARALDA.csv... con 33906 filas\n",
      "Guardando departamentos_codificados\\SAN ANDRÉS.csv... con 2247 filas\n",
      "Guardando departamentos_codificados\\SANTANDER.csv... con 53958 filas\n",
      "Guardando departamentos_codificados\\SUCRE.csv... con 14596 filas\n",
      "Guardando departamentos_codificados\\TOLIMA.csv... con 28380 filas\n",
      "Guardando departamentos_codificados\\VALLE.csv... con 81223 filas\n",
      "Guardando departamentos_codificados\\VAUPÉS.csv... con 409 filas\n",
      "Guardando departamentos_codificados\\VICHADA.csv... con 1127 filas\n",
      "Archivos CSV generados en la carpeta: departamentos_codificados\n"
     ]
    }
   ],
   "source": [
    "import os\n",
    "import pandas as pd\n",
    "\n",
    "def csv_by_filter(data, filter_column, output_folder, out=True):\n",
    "    # Especifica la carpeta donde guardar los archivos CSV\n",
    "    os.makedirs(output_folder, exist_ok=True)  # Crea la carpeta si no existe\n",
    "\n",
    "    # Filtra y guarda un CSV para cada departamento\n",
    "    for filter_value, filtered_data in data.groupby(filter_column):\n",
    "        # Genera el nombre del archivo para cada departamento\n",
    "        output_file = os.path.join(output_folder, f\"{filter_value}.csv\")\n",
    "        if out:\n",
    "            print(f\"Guardando {output_file}... con {len(filtered_data)} filas\")\n",
    "        \n",
    "        # Convierte las columnas de tipo object a tipo category y luego a dummies\n",
    "        categorical_columns = filtered_data.select_dtypes(include=['object']).columns\n",
    "        filtered_data = pd.get_dummies(filtered_data, columns=categorical_columns, prefix=categorical_columns, drop_first=True)\n",
    "\n",
    "        # Guarda el DataFrame filtrado como CSV\n",
    "        filtered_data.to_csv(output_file, index=False)\n",
    "    \n",
    "    if out:\n",
    "        print(\"Archivos CSV generados en la carpeta:\", output_folder)\n",
    "\n",
    "# Filtra y guarda un CSV para cada departamento\n",
    "csv_by_filter(general_data, \"DEPARTAMENTO\", 'departamentos_codificados', out=True)\n"
   ]
  },
  {
   "cell_type": "code",
   "execution_count": 15,
   "metadata": {},
   "outputs": [
    {
     "name": "stdout",
     "output_type": "stream",
     "text": [
      "x\n",
      "x\n",
      "x\n",
      "x\n",
      "x\n",
      "x\n",
      "<class 'pandas.core.frame.DataFrame'>\n",
      "RangeIndex: 20747 entries, 0 to 20746\n",
      "Columns: 266 entries, DEPARTAMENTO to GRUPO_ETARIO_MENORES\n",
      "dtypes: float64(258), int64(1), object(7)\n",
      "memory usage: 42.1+ MB\n"
     ]
    }
   ],
   "source": [
    "import pandas as pd\n",
    "from sklearn.preprocessing import OneHotEncoder\n",
    "\n",
    "# Carga los datos\n",
    "cauca = pd.read_csv('departamentos/CAUCA.csv', low_memory=False)\n",
    "\n",
    "# Asegúrate de que las columnas sean de tipo string\n",
    "cauca[[\"DEPARTAMENTO\", \"MUNICIPIO\", \"CODIGO_DANE\", \"GENERO\", \"DESCRIPCION_CONDUCTA_CAPTURA\", \"GRUPO_ETARIO\"]] = cauca[[\"DEPARTAMENTO\", \"MUNICIPIO\", \"CODIGO_DANE\", \"GENERO\", \"DESCRIPCION_CONDUCTA_CAPTURA\", \"GRUPO_ETARIO\"]].astype(str)\n",
    "\n",
    "# Codificación One-Hot\n",
    "codificador = OneHotEncoder(sparse_output=False)\n",
    "codificacion = codificador.fit_transform(cauca[[\"DEPARTAMENTO\", \"MUNICIPIO\", \"CODIGO_DANE\", \"GENERO\", \"DESCRIPCION_CONDUCTA_CAPTURA\", \"GRUPO_ETARIO\"]])\n",
    "\n",
    "# Crear nombres de columnas para el DataFrame resultante\n",
    "nombres_columnas = []\n",
    "for i, cat in enumerate(codificador.categories_):\n",
    "    print(\"x\")\n",
    "    nombres_columnas.extend([f\"{codificador.feature_names_in_[i]}_{val}\" for val in cat])\n",
    "\n",
    "# Crear el DataFrame con los resultados de la codificación\n",
    "nueva_data = pd.DataFrame(codificacion, columns=nombres_columnas)\n",
    "\n",
    "# Unir los dos DataFrames\n",
    "cauca_completo = pd.concat([cauca.reset_index(drop=True), nueva_data.reset_index(drop=True)], axis=1)\n",
    "\n",
    "# Guardar el DataFrame combinado en un archivo CSV\n",
    "output_file = 'cauca_completo.csv'\n",
    "cauca_completo.to_csv(output_file, index=False)\n",
    "cauca_completo.info()"
   ]
  },
  {
   "cell_type": "code",
   "execution_count": null,
   "metadata": {},
   "outputs": [],
   "source": []
  }
 ],
 "metadata": {
  "kernelspec": {
   "display_name": "Models",
   "language": "python",
   "name": "python3"
  },
  "language_info": {
   "codemirror_mode": {
    "name": "ipython",
    "version": 3
   },
   "file_extension": ".py",
   "mimetype": "text/x-python",
   "name": "python",
   "nbconvert_exporter": "python",
   "pygments_lexer": "ipython3",
   "version": "3.12.7"
  }
 },
 "nbformat": 4,
 "nbformat_minor": 4
}
