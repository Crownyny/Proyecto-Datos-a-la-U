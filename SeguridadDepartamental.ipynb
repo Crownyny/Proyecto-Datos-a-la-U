{
 "cells": [
  {
   "cell_type": "markdown",
   "metadata": {},
   "source": [
    "## Analisis de datos"
   ]
  },
  {
   "cell_type": "markdown",
   "metadata": {},
   "source": [
    "#### Creamos un dataframe con los datos de general data y lo fragmentamos y guardamos en un csv por departamento"
   ]
  },
  {
   "cell_type": "code",
   "execution_count": null,
   "metadata": {},
   "outputs": [],
   "source": [
    "import os\n",
    "import pandas as pd"
   ]
  },
  {
   "cell_type": "code",
   "execution_count": 2,
   "metadata": {},
   "outputs": [],
   "source": [
    "# Carga datos en un DataFrame\n",
    "general_data = pd.read_csv('general_data.csv', low_memory=False)\n",
    "\n",
    "def csv_by_filter(data, filter_column, output_folder, out = True):\n",
    "    # Especifica la carpeta donde guardar los archivos CSV\n",
    "    os.makedirs(output_folder, exist_ok=True)  # Crea la carpeta si no existe\n",
    "\n",
    "    # Filtra y guarda un CSV para cada departamento\n",
    "    for filter_column, data in general_data.groupby('departamento'):\n",
    "        # Genera el nombre del archivo para cada departamento\n",
    "        output_file = os.path.join(output_folder, f\"{filter_column}.csv\")\n",
    "        if (out):\n",
    "            print(f\"Guardando {output_file}... con {len(data)} filas\")\n",
    "        # Guarda el DataFrame filtrado como CSV\n",
    "        data.to_csv(output_file, index=False)\n",
    "    if (out):\n",
    "        print(\"Archivos CSV generados en la carpeta:\", output_folder)\n",
    "\n",
    "# Filtra y guarda un CSV para cada departamento\n",
    "csv_by_filter(general_data, 'departamento', 'departamentos', out = False)"
   ]
  },
  {
   "cell_type": "code",
   "execution_count": 3,
   "metadata": {},
   "outputs": [],
   "source": [
    "cauca = pd.read_csv('departamentos/Cauca.csv', low_memory=False)"
   ]
  },
  {
   "cell_type": "code",
   "execution_count": null,
   "metadata": {},
   "outputs": [],
   "source": []
  }
 ],
 "metadata": {
  "kernelspec": {
   "display_name": "Models",
   "language": "python",
   "name": "python3"
  },
  "language_info": {
   "codemirror_mode": {
    "name": "ipython",
    "version": 3
   },
   "file_extension": ".py",
   "mimetype": "text/x-python",
   "name": "python",
   "nbconvert_exporter": "python",
   "pygments_lexer": "ipython3",
   "version": "3.12.7"
  }
 },
 "nbformat": 4,
 "nbformat_minor": 2
}
