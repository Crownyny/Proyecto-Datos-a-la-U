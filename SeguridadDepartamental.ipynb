{
 "cells": [
  {
   "cell_type": "markdown",
   "metadata": {},
   "source": [
    "## Analisis de datos"
   ]
  },
  {
   "cell_type": "markdown",
   "metadata": {},
   "source": [
    "#### Creamos un dataframe con los datos de general data y lo fragmentamos y guardamos en un csv por departamento"
   ]
  },
  {
   "cell_type": "code",
   "execution_count": 1,
   "metadata": {},
   "outputs": [],
   "source": [
    "import os\n",
    "import pandas as pd"
   ]
  },
  {
   "cell_type": "code",
   "execution_count": 14,
   "metadata": {},
   "outputs": [],
   "source": [
    "# Carga datos en un DataFrame\n",
    "general_data = pd.read_csv('Reporte_Capturas_Polic_a_Nacional_20241025.csv', low_memory=False)\n",
    "general_data =  general_data[~general_data[\"DEPARTAMENTO\"].isin([\"QUITO\", \"MADRID\",\"NEW YORK\",\"NEW JERSEY\",\"FLORIDA\"])]\n",
    "\n",
    "def csv_by_filter(data, filter_column, output_folder, out = True):\n",
    "    # Especifica la carpeta donde guardar los archivos CSV\n",
    "    os.makedirs(output_folder, exist_ok=True)  # Crea la carpeta si no existe\n",
    "\n",
    "    # Filtra y guarda un CSV para cada departamento\n",
    "    for filter_column, data in general_data.groupby('DEPARTAMENTO'):\n",
    "        # Genera el nombre del archivo para cada departamento\n",
    "        output_file = os.path.join(output_folder, f\"{filter_column}.csv\")\n",
    "        if (out):\n",
    "            print(f\"Guardando {output_file}... con {len(data)} filas\")\n",
    "        # Guarda el DataFrame filtrado como CSV\n",
    "        data.to_csv(output_file, index=False)\n",
    "    if (out):\n",
    "        print(\"Archivos CSV generados en la carpeta:\", output_folder)\n",
    "\n",
    "# Filtra y guarda un CSV para cada departamento\n",
    "csv_by_filter(general_data, 'departamento', 'departamentos', out = False)"
   ]
  },
  {
   "cell_type": "code",
   "execution_count": 19,
   "metadata": {},
   "outputs": [],
   "source": [
    "cauca = pd.read_csv('departamentos/CAUCA.csv', low_memory=False)"
   ]
  },
  {
   "cell_type": "code",
   "execution_count": 18,
   "metadata": {},
   "outputs": [
    {
     "name": "stdout",
     "output_type": "stream",
     "text": [
      "El DataFrame combinado se ha guardado en: cauca_completo.csv\n"
     ]
    }
   ],
   "source": [
    "import pandas as pd\n",
    "from sklearn.preprocessing import OneHotEncoder\n",
    "\n",
    "# Carga los datos\n",
    "cauca = pd.read_csv('departamentos/CAUCA.csv', low_memory=False)\n",
    "\n",
    "# Asegúrate de que las columnas sean de tipo string\n",
    "cauca[[\"DEPARTAMENTO\", \"MUNICIPIO\", \"CODIGO_DANE\", \"GENERO\", \"DESCRIPCION_CONDUCTA_CAPTURA\", \"GRUPO_ETARIO\"]] = cauca[[\"DEPARTAMENTO\", \"MUNICIPIO\", \"CODIGO_DANE\", \"GENERO\", \"DESCRIPCION_CONDUCTA_CAPTURA\", \"GRUPO_ETARIO\"]].astype(str)\n",
    "\n",
    "# Codificación One-Hot\n",
    "codificador = OneHotEncoder(sparse_output=False)\n",
    "codificacion = codificador.fit_transform(cauca[[\"DEPARTAMENTO\", \"MUNICIPIO\", \"CODIGO_DANE\", \"GENERO\", \"DESCRIPCION_CONDUCTA_CAPTURA\", \"GRUPO_ETARIO\"]])\n",
    "\n",
    "# Convierte la columna FECHA_HECHO a formato datetime\n",
    "cauca['FECHA_HECHO'] = pd.to_datetime(cauca['FECHA_HECHO'], format=\"%d/%m/%Y\")\n",
    "\n",
    "# Crear nombres de columnas para el DataFrame resultante\n",
    "nombres_columnas = []\n",
    "for i, cat in enumerate(codificador.categories_):\n",
    "    nombres_columnas.extend([f\"{codificador.feature_names_in_[i]}_{val}\" for val in cat])\n",
    "\n",
    "# Crear el DataFrame con los resultados de la codificación\n",
    "nueva_data = pd.DataFrame(codificacion, columns=nombres_columnas)\n",
    "\n",
    "# Unir los dos DataFrames\n",
    "cauca_completo = pd.concat([cauca.reset_index(drop=True), nueva_data.reset_index(drop=True)], axis=1)\n",
    "\n",
    "# Guardar el DataFrame combinado en un archivo CSV\n",
    "output_file = 'cauca_completo.csv'\n",
    "cauca_completo.to_csv(output_file, index=False)\n",
    "\n",
    "print(f\"El DataFrame combinado se ha guardado en: {output_file}\")"
   ]
  },
  {
   "cell_type": "code",
   "execution_count": null,
   "metadata": {},
   "outputs": [],
   "source": []
  }
 ],
 "metadata": {
  "kernelspec": {
   "display_name": "Models",
   "language": "python",
   "name": "python3"
  },
  "language_info": {
   "codemirror_mode": {
    "name": "ipython",
    "version": 3
   },
   "file_extension": ".py",
   "mimetype": "text/x-python",
   "name": "python",
   "nbconvert_exporter": "python",
   "pygments_lexer": "ipython3",
   "version": "3.12.7"
  }
 },
 "nbformat": 4,
 "nbformat_minor": 4
}
