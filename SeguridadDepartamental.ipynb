{
 "cells": [
  {
   "cell_type": "markdown",
   "metadata": {},
   "source": [
    "## Analisis de datos"
   ]
  },
  {
   "cell_type": "markdown",
   "metadata": {},
   "source": [
    "#### Creamos un dataframe con los datos de general data y lo fragmentamos y guardamos en un csv por departamento"
   ]
  },
  {
   "cell_type": "markdown",
   "metadata": {},
   "source": [
    "Obtenemos los datos del csv"
   ]
  },
  {
   "cell_type": "code",
   "execution_count": null,
   "metadata": {},
   "outputs": [],
   "source": [
    "general_data.iloc[0:5, 0:5]"
   ]
  },
  {
   "cell_type": "code",
   "execution_count": 20,
   "metadata": {},
   "outputs": [],
   "source": [
    "import os\n",
    "import pandas as pd\n",
    "from sklearn.preprocessing import OneHotEncoder\n",
    "\n",
    "# Carga datos en un DataFrame\n",
    "general_data = pd.read_csv('Reporte_Capturas_Polic_a_Nacional_20241025.csv', low_memory=False)\n",
    "# Eliminar columnas espurias\n",
    "general_data =  general_data[~general_data[\"DEPARTAMENTO\"].isin([\"QUITO\", \"MADRID\",\"NEW YORK\",\"NEW JERSEY\",\"FLORIDA\"])]\n",
    "# Convierte la columna FECHA_HECHO a formato datetime\n",
    "general_data['FECHA_HECHO'] = pd.to_datetime(general_data['FECHA_HECHO'], format=\"%d/%m/%Y\")"
   ]
  },
  {
   "cell_type": "code",
   "execution_count": 21,
   "metadata": {},
   "outputs": [],
   "source": [
    "def csv_by_filter(data, filter_column, output_folder, out = True):\n",
    "    # Especifica la carpeta donde guardar los archivos CSV\n",
    "    os.makedirs(output_folder, exist_ok=True)  # Crea la carpeta si no existe\n",
    "\n",
    "    # Filtra y guarda un CSV para cada departamento\n",
    "    for filter_column, data in general_data.groupby(filter_column):\n",
    "        # Genera el nombre del archivo para cada departamento\n",
    "        output_file = os.path.join(output_folder, f\"{filter_column}.csv\")\n",
    "        if (out):\n",
    "            print(f\"Guardando {output_file}... con {len(data)} filas\")\n",
    "        # Guarda el DataFrame filtrado como CSV\n",
    "        data.to_csv(output_file, index=False)\n",
    "    if (out):\n",
    "        print(\"Archivos CSV generados en la carpeta:\", output_folder)\n",
    "\n",
    "# Filtra y guarda un CSV para cada departamento\n",
    "csv_by_filter(general_data, \"DEPARTAMENTO\", 'departamentos_base', out = False)"
   ]
  },
  {
   "cell_type": "code",
   "execution_count": 35,
   "metadata": {},
   "outputs": [
    {
     "name": "stdout",
     "output_type": "stream",
     "text": [
      "Guardando departamentos_codificados\\AMAZONAS.csv... con 3042 filas\n",
      "Con el siguiente número de columnas: 97\n",
      "Guardando departamentos_codificados\\ANTIOQUIA.csv... con 115316 filas\n",
      "Con el siguiente número de columnas: 511\n",
      "Guardando departamentos_codificados\\ARAUCA.csv... con 4261 filas\n",
      "Con el siguiente número de columnas: 129\n",
      "Guardando departamentos_codificados\\ATLÁNTICO.csv... con 35313 filas\n",
      "Con el siguiente número de columnas: 254\n",
      "Guardando departamentos_codificados\\BOLÍVAR.csv... con 34910 filas\n",
      "Con el siguiente número de columnas: 299\n",
      "Guardando departamentos_codificados\\BOYACÁ.csv... con 27861 filas\n",
      "Con el siguiente número de columnas: 427\n",
      "Guardando departamentos_codificados\\CALDAS.csv... con 29073 filas\n",
      "Con el siguiente número de columnas: 215\n",
      "Guardando departamentos_codificados\\CAQUETÁ.csv... con 10663 filas\n",
      "Con el siguiente número de columnas: 175\n",
      "Guardando departamentos_codificados\\CASANARE.csv... con 9640 filas\n",
      "Con el siguiente número de columnas: 193\n",
      "Guardando departamentos_codificados\\CAUCA.csv... con 20747 filas\n",
      "Con el siguiente número de columnas: 260\n",
      "Guardando departamentos_codificados\\CESAR.csv... con 17146 filas\n",
      "Con el siguiente número de columnas: 214\n",
      "Guardando departamentos_codificados\\CHOCÓ.csv... con 4969 filas\n",
      "Con el siguiente número de columnas: 180\n",
      "Guardando departamentos_codificados\\CUNDINAMARCA.csv... con 115954 filas\n",
      "Con el siguiente número de columnas: 527\n",
      "Guardando departamentos_codificados\\CÓRDOBA.csv... con 28266 filas\n",
      "Con el siguiente número de columnas: 238\n",
      "Guardando departamentos_codificados\\GUAINÍA.csv... con 1115 filas\n",
      "Con el siguiente número de columnas: 60\n",
      "Guardando departamentos_codificados\\GUAJIRA.csv... con 8758 filas\n",
      "Con el siguiente número de columnas: 156\n",
      "Guardando departamentos_codificados\\GUAVIARE.csv... con 2162 filas\n",
      "Con el siguiente número de columnas: 93\n",
      "Guardando departamentos_codificados\\HUILA.csv... con 25310 filas\n",
      "Con el siguiente número de columnas: 242\n",
      "Guardando departamentos_codificados\\MAGDALENA.csv... con 16008 filas\n",
      "Con el siguiente número de columnas: 227\n",
      "Guardando departamentos_codificados\\META.csv... con 20916 filas\n",
      "Con el siguiente número de columnas: 235\n",
      "Guardando departamentos_codificados\\NARIÑO.csv... con 34584 filas\n",
      "Con el siguiente número de columnas: 336\n",
      "Guardando departamentos_codificados\\NORTE DE SANTANDER.csv... con 26952 filas\n",
      "Con el siguiente número de columnas: 254\n",
      "Guardando departamentos_codificados\\PUTUMAYO.csv... con 8874 filas\n",
      "Con el siguiente número de columnas: 170\n",
      "Guardando departamentos_codificados\\QUINDÍO.csv... con 22089 filas\n",
      "Con el siguiente número de columnas: 161\n",
      "Guardando departamentos_codificados\\RISARALDA.csv... con 33906 filas\n",
      "Con el siguiente número de columnas: 213\n",
      "Guardando departamentos_codificados\\SAN ANDRÉS.csv... con 2247 filas\n",
      "Con el siguiente número de columnas: 80\n",
      "Guardando departamentos_codificados\\SANTANDER.csv... con 53958 filas\n",
      "Con el siguiente número de columnas: 391\n",
      "Guardando departamentos_codificados\\SUCRE.csv... con 14596 filas\n",
      "Con el siguiente número de columnas: 199\n",
      "Guardando departamentos_codificados\\TOLIMA.csv... con 28380 filas\n",
      "Con el siguiente número de columnas: 274\n",
      "Guardando departamentos_codificados\\VALLE.csv... con 81223 filas\n",
      "Con el siguiente número de columnas: 329\n",
      "Guardando departamentos_codificados\\VAUPÉS.csv... con 409 filas\n",
      "Con el siguiente número de columnas: 62\n",
      "Guardando departamentos_codificados\\VICHADA.csv... con 1127 filas\n",
      "Con el siguiente número de columnas: 108\n",
      "Archivos CSV generados en la carpeta: departamentos_codificados\n"
     ]
    }
   ],
   "source": [
    "import os\n",
    "import pandas as pd\n",
    "\n",
    "def csv_encoded_by_filter(data, filter_column, output_folder, out=True):\n",
    "    # Especifica la carpeta donde guardar los archivos CSV\n",
    "    os.makedirs(output_folder, exist_ok=True)  # Crea la carpeta si no existe\n",
    "\n",
    "    # Filtra y guarda un CSV para cada departamento\n",
    "    for filter_value, filtered_data in data.groupby(filter_column):\n",
    "        # Genera el nombre del archivo para cada departamento\n",
    "        output_file = os.path.join(output_folder, f\"{filter_value}.csv\")\n",
    "        if out:\n",
    "            print(f\"Guardando {output_file}... con {len(filtered_data)} filas\")\n",
    "        \n",
    "        # Convierte las columnas de tipo object a tipo category y luego a dummies\n",
    "        categorical_columns = filtered_data.select_dtypes(include=['object']).columns\n",
    "        filtered_data = pd.get_dummies(filtered_data, columns=categorical_columns, prefix=categorical_columns, drop_first=False, dtype='int64')\n",
    "\n",
    "        if(out):\n",
    "            print(\"Con el siguiente número de columnas:\", len(filtered_data.columns))\n",
    "\n",
    "        # Guarda el DataFrame filtrado como CSV\n",
    "        filtered_data.to_csv(output_file, index=False)\n",
    "    \n",
    "    if out:\n",
    "        print(\"Archivos CSV generados en la carpeta:\", output_folder)\n",
    "\n",
    "# Filtra y guarda un CSV para cada departamento\n",
    "csv_encoded_by_filter(general_data, \"DEPARTAMENTO\", 'departamentos_codificados', out=True)"
   ]
  },
  {
   "cell_type": "code",
   "execution_count": 23,
   "metadata": {},
   "outputs": [
    {
     "ename": "ModuleNotFoundError",
     "evalue": "No module named 'geopandas'",
     "output_type": "error",
     "traceback": [
      "\u001b[1;31m---------------------------------------------------------------------------\u001b[0m",
      "\u001b[1;31mModuleNotFoundError\u001b[0m                       Traceback (most recent call last)",
      "Cell \u001b[1;32mIn[23], line 1\u001b[0m\n\u001b[1;32m----> 1\u001b[0m \u001b[38;5;28;01mimport\u001b[39;00m \u001b[38;5;21;01mgeopandas\u001b[39;00m \u001b[38;5;28;01mas\u001b[39;00m \u001b[38;5;21;01mgpd\u001b[39;00m\n\u001b[0;32m      2\u001b[0m \u001b[38;5;28;01mimport\u001b[39;00m \u001b[38;5;21;01mmatplotlib\u001b[39;00m\u001b[38;5;21;01m.\u001b[39;00m\u001b[38;5;21;01mpyplot\u001b[39;00m \u001b[38;5;28;01mas\u001b[39;00m \u001b[38;5;21;01mplt\u001b[39;00m\n",
      "\u001b[1;31mModuleNotFoundError\u001b[0m: No module named 'geopandas'"
     ]
    }
   ],
   "source": [
    "import geopandas as gpd\n",
    "import matplotlib.pyplot as plt"
   ]
  },
  {
   "cell_type": "code",
   "execution_count": 28,
   "metadata": {},
   "outputs": [
    {
     "data": {
      "text/plain": [
       "True"
      ]
     },
     "execution_count": 28,
     "metadata": {},
     "output_type": "execute_result"
    }
   ],
   "source": [
    "True"
   ]
  }
 ],
 "metadata": {
  "kernelspec": {
   "display_name": "Models",
   "language": "python",
   "name": "python3"
  },
  "language_info": {
   "codemirror_mode": {
    "name": "ipython",
    "version": 3
   },
   "file_extension": ".py",
   "mimetype": "text/x-python",
   "name": "python",
   "nbconvert_exporter": "python",
   "pygments_lexer": "ipython3",
   "version": "3.12.7"
  }
 },
 "nbformat": 4,
 "nbformat_minor": 4
}
