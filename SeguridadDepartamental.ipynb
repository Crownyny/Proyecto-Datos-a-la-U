{
 "cells": [
  {
   "cell_type": "markdown",
   "metadata": {},
   "source": [
    "## Analisis de datos"
   ]
  },
  {
   "cell_type": "markdown",
   "metadata": {},
   "source": [
    "#### Creamos un dataframe con los datos de general data y lo fragmentamos y guardamos en un csv por departamento"
   ]
  },
  {
   "cell_type": "markdown",
   "metadata": {},
   "source": [
    "Obtenemos los datos del csv"
   ]
  },
  {
   "cell_type": "code",
   "execution_count": 31,
   "metadata": {},
   "outputs": [],
   "source": [
    "import os\n",
    "import pandas as pd\n",
    "from sklearn.preprocessing import OneHotEncoder\n",
    "\n",
    "# Carga datos en un DataFrame\n",
    "general_data = pd.read_csv('data.csv', low_memory=False)\n",
    "general_data.columns = general_data.columns.str.upper()\n",
    "# Eliminar columnas espurias\n",
    "general_data =  general_data[~general_data[\"DEPARTAMENTO\"].isin([\"QUITO\", \"MADRID\",\"NEW YORK\",\"NEW JERSEY\",\"FLORIDA\"])]\n",
    "# Convierte la columna FECHA_HECHO a formato datetime\n",
    "general_data['FECHA_HECHO'] = pd.to_datetime(general_data['FECHA_HECHO'], format=\"%d/%m/%Y\")"
   ]
  },
  {
   "cell_type": "markdown",
   "metadata": {},
   "source": [
    "Pasamos las conductas delictivas con menos inferencia a una nueva categoria `otros`"
   ]
  },
  {
   "cell_type": "code",
   "execution_count": null,
   "metadata": {},
   "outputs": [],
   "source": [
    "import numpy as np\n",
    "\n",
    "def replace_by_percentile(data, column, percentile, replacement_value):\n",
    "    # Calcular el percentil de las frecuencias\n",
    "    frequencies = data[column].value_counts()\n",
    "    threshold = np.percentile(frequencies, percentile)\n",
    "    \n",
    "    # Crear una copia del DataFrame para evitar modificar el original\n",
    "    data_copy = data.copy()\n",
    "    \n",
    "    # Reemplazar los valores en las filas donde la frecuencia es menor al percentil dado\n",
    "    data_copy.loc[data_copy[column].map(frequencies) < threshold, column] = replacement_value\n",
    "    \n",
    "    return data_copy\n",
    "\n",
    "modified_data = replace_by_percentile(general_data, \"DESCRIPCION_CONDUCTA_CAPTURA\", 82, \"OTROS\")"
   ]
  },
  {
   "cell_type": "code",
   "execution_count": 48,
   "metadata": {},
   "outputs": [
    {
     "data": {
      "text/plain": [
       "DESCRIPCION_CONDUCTA_CAPTURA\n",
       "ARTÍCULO 376. TRÁFICO. FABRICACIÓN O PORTE DE ESTUPEFACIENTES                                             203227\n",
       "ARTÍCULO 239. HURTO PERSONAS                                                                               98813\n",
       "ARTÍCULO 111. LESIONES PERSONALES                                                                          66558\n",
       "ARTÍCULO 365. FABRICACIÓN. TRÁFICO. PORTE O TENENCIA DE ARMAS DE FUEGO.ACCESORIOS. PARTES O MUNICIONES     63624\n",
       "ARTÍCULO 229. VIOLENCIA INTRAFAMILIAR                                                                      46353\n",
       "                                                                                                           ...  \n",
       "ARTÍCULO 343. TERRORISMO                                                                                     660\n",
       "ARTÍCULO 353A. OBSTRUCCION A VIAS PUBLICAS QUE AFECTEN EL ORDEN PUBLICO                                      617\n",
       "ARTÍCULO 469. ASONADA                                                                                        592\n",
       "ARTÍCULO 319-1. CONTRABANDO DE HIDROCARBUROS Y SUS DERIVADOS                                                 582\n",
       "ARTÍCULO 269I. HURTO POR MEDIOS INFORMÁTICOS Y SEMEJANTES                                                    563\n",
       "Name: count, Length: 67, dtype: int64"
      ]
     },
     "execution_count": 48,
     "metadata": {},
     "output_type": "execute_result"
    }
   ],
   "source": [
    "modified_data[ \"DESCRIPCION_CONDUCTA_CAPTURA\"].value_counts()"
   ]
  },
  {
   "cell_type": "markdown",
   "metadata": {},
   "source": [
    "Generar un directorio con los datos sin categorizar"
   ]
  },
  {
   "cell_type": "code",
   "execution_count": 49,
   "metadata": {},
   "outputs": [],
   "source": [
    "def csv_by_filter(data, filter_column, output_folder, out = True):\n",
    "    # Especifica la carpeta donde guardar los archivos CSV\n",
    "    os.makedirs(output_folder, exist_ok=True)  # Crea la carpeta si no existe\n",
    "\n",
    "    # Filtra y guarda un CSV para cada departamento\n",
    "    for filter_column, loop_data in data.groupby(filter_column):\n",
    "        # Genera el nombre del archivo para cada departamento\n",
    "        output_file = os.path.join(output_folder, f\"{filter_column}.csv\")\n",
    "        if (out):\n",
    "            print(f\"Guardando {output_file}... con {len(loop_data)} filas\")\n",
    "        # Guarda el DataFrame filtrado como CSV\n",
    "        loop_data.to_csv(output_file, index=False)\n",
    "    if (out):\n",
    "        print(\"Archivos CSV generados en la carpeta:\", output_folder)\n",
    "\n",
    "# Filtra y guarda un CSV para cada departamento\n",
    "csv_by_filter(modified_data, \"DEPARTAMENTO\", 'departamentos_base', out = False)"
   ]
  },
  {
   "cell_type": "markdown",
   "metadata": {},
   "source": [
    "Generar un directorio con los datos categorizados"
   ]
  },
  {
   "cell_type": "code",
   "execution_count": 52,
   "metadata": {},
   "outputs": [
    {
     "name": "stdout",
     "output_type": "stream",
     "text": [
      "Guardando departamentos_codificados\\AMAZONAS.csv... con 3042 filas\n",
      "Con el siguiente número de columnas: 68\n",
      "Guardando departamentos_codificados\\ANTIOQUIA.csv... con 115316 filas\n",
      "Con el siguiente número de columnas: 325\n",
      "Guardando departamentos_codificados\\ARAUCA.csv... con 4261 filas\n",
      "Con el siguiente número de columnas: 83\n",
      "Guardando departamentos_codificados\\ATLÁNTICO.csv... con 35313 filas\n",
      "Con el siguiente número de columnas: 120\n",
      "Guardando departamentos_codificados\\BOLÍVAR.csv... con 34910 filas\n",
      "Con el siguiente número de columnas: 167\n",
      "Guardando departamentos_codificados\\BOYACÁ.csv... con 27861 filas\n",
      "Con el siguiente número de columnas: 316\n",
      "Guardando departamentos_codificados\\CALDAS.csv... con 29073 filas\n",
      "Con el siguiente número de columnas: 126\n",
      "Guardando departamentos_codificados\\CAQUETÁ.csv... con 10663 filas\n",
      "Con el siguiente número de columnas: 103\n",
      "Guardando departamentos_codificados\\CASANARE.csv... con 9640 filas\n",
      "Con el siguiente número de columnas: 111\n",
      "Guardando departamentos_codificados\\CAUCA.csv... con 20747 filas\n",
      "Con el siguiente número de columnas: 158\n",
      "Guardando departamentos_codificados\\CESAR.csv... con 17146 filas\n",
      "Con el siguiente número de columnas: 125\n",
      "Guardando departamentos_codificados\\CHOCÓ.csv... con 4969 filas\n",
      "Con el siguiente número de columnas: 129\n",
      "Guardando departamentos_codificados\\CUNDINAMARCA.csv... con 115954 filas\n",
      "Con el siguiente número de columnas: 309\n",
      "Guardando departamentos_codificados\\CÓRDOBA.csv... con 28266 filas\n",
      "Con el siguiente número de columnas: 135\n",
      "Guardando departamentos_codificados\\GUAINÍA.csv... con 1115 filas\n",
      "Con el siguiente número de columnas: 49\n",
      "Guardando departamentos_codificados\\GUAJIRA.csv... con 8758 filas\n",
      "Con el siguiente número de columnas: 102\n",
      "Guardando departamentos_codificados\\GUAVIARE.csv... con 2162 filas\n",
      "Con el siguiente número de columnas: 67\n",
      "Guardando departamentos_codificados\\HUILA.csv... con 25310 filas\n",
      "Con el siguiente número de columnas: 149\n",
      "Guardando departamentos_codificados\\MAGDALENA.csv... con 16008 filas\n",
      "Con el siguiente número de columnas: 133\n",
      "Guardando departamentos_codificados\\META.csv... con 20916 filas\n",
      "Con el siguiente número de columnas: 133\n",
      "Guardando departamentos_codificados\\NARIÑO.csv... con 34584 filas\n",
      "Con el siguiente número de columnas: 203\n",
      "Guardando departamentos_codificados\\NORTE DE SANTANDER.csv... con 26952 filas\n",
      "Con el siguiente número de columnas: 155\n",
      "Guardando departamentos_codificados\\PUTUMAYO.csv... con 8874 filas\n",
      "Con el siguiente número de columnas: 96\n",
      "Guardando departamentos_codificados\\QUINDÍO.csv... con 22089 filas\n",
      "Con el siguiente número de columnas: 96\n",
      "Guardando departamentos_codificados\\RISARALDA.csv... con 33906 filas\n",
      "Con el siguiente número de columnas: 103\n",
      "Guardando departamentos_codificados\\SAN ANDRÉS.csv... con 2247 filas\n",
      "Con el siguiente número de columnas: 61\n",
      "Guardando departamentos_codificados\\SANTANDER.csv... con 53958 filas\n",
      "Con el siguiente número de columnas: 249\n",
      "Guardando departamentos_codificados\\SUCRE.csv... con 14596 filas\n",
      "Con el siguiente número de columnas: 127\n",
      "Guardando departamentos_codificados\\TOLIMA.csv... con 28380 filas\n",
      "Con el siguiente número de columnas: 167\n",
      "Guardando departamentos_codificados\\VALLE.csv... con 81223 filas\n",
      "Con el siguiente número de columnas: 158\n",
      "Guardando departamentos_codificados\\VAUPÉS.csv... con 409 filas\n",
      "Con el siguiente número de columnas: 52\n",
      "Guardando departamentos_codificados\\VICHADA.csv... con 1127 filas\n",
      "Con el siguiente número de columnas: 90\n",
      "Archivos CSV generados en la carpeta: departamentos_codificados\n"
     ]
    }
   ],
   "source": [
    "import os\n",
    "import pandas as pd\n",
    "\n",
    "def csv_encoded_by_filter(data, filter_column, output_folder, out=True):\n",
    "    # Especifica la carpeta donde guardar los archivos CSV\n",
    "    os.makedirs(output_folder, exist_ok=True)  # Crea la carpeta si no existe\n",
    "\n",
    "    # Filtra y guarda un CSV para cada departamento\n",
    "    for filter_value, filtered_data in data.groupby(filter_column):\n",
    "        # Genera el nombre del archivo para cada departamento\n",
    "        output_file = os.path.join(output_folder, f\"{filter_value}.csv\")\n",
    "        if out:\n",
    "            print(f\"Guardando {output_file}... con {len(filtered_data)} filas\")\n",
    "        \n",
    "        # Convierte las columnas de tipo object a tipo category y luego a dummies\n",
    "        categorical_columns = filtered_data.select_dtypes(include=['object']).columns\n",
    "        filtered_data = pd.get_dummies(filtered_data, columns=categorical_columns, prefix=categorical_columns, drop_first=False, dtype='int64')\n",
    "\n",
    "        if(out):\n",
    "            print(\"Con el siguiente número de columnas:\", len(filtered_data.columns))\n",
    "\n",
    "        # Guarda el DataFrame filtrado como CSV\n",
    "        filtered_data.to_csv(output_file, index=False)\n",
    "    \n",
    "    if out:\n",
    "        print(\"Archivos CSV generados en la carpeta:\", output_folder)\n",
    "\n",
    "# Filtra y guarda un CSV para cada departamento\n",
    "csv_encoded_by_filter(modified_data, \"DEPARTAMENTO\", 'departamentos_codificados', out=True)"
   ]
  },
  {
   "cell_type": "code",
   "execution_count": null,
   "metadata": {},
   "outputs": [],
   "source": []
  }
 ],
 "metadata": {
  "kernelspec": {
   "display_name": "Models",
   "language": "python",
   "name": "python3"
  },
  "language_info": {
   "codemirror_mode": {
    "name": "ipython",
    "version": 3
   },
   "file_extension": ".py",
   "mimetype": "text/x-python",
   "name": "python",
   "nbconvert_exporter": "python",
   "pygments_lexer": "ipython3",
   "version": "3.12.7"
  }
 },
 "nbformat": 4,
 "nbformat_minor": 4
}
